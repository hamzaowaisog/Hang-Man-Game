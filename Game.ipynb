{
 "cells": [
  {
   "cell_type": "code",
   "execution_count": 3,
   "id": "09e13c63",
   "metadata": {},
   "outputs": [
    {
     "name": "stdout",
     "output_type": "stream",
     "text": [
      "\n",
      " _                                             \n",
      "| |                                            \n",
      "| |___    __ _      __ __    __ _     _____      __       ___  \n",
      "|  _  |  / _  |    |  _  \\  / _  |  /_   _ \\   /  _\\    |  _ \\ \n",
      "| | | | | (_| |_   | | | | | (_| |  | | | | | | (_| |_  | | | |\n",
      "|_| |_|  \\______|  |_| |_|  \\___ |  |_| | |_|  \\______| |_| |_|\n",
      "                             __/ |                      \n",
      "                            |___/\n",
      "\n",
      "\n"
     ]
    }
   ],
   "source": [
    "import random\n",
    "from hangman_guessing import guess_list\n",
    "guessing_word = random.choice(guess_list).lower()\n",
    "word_letter = len(guessing_word)\n",
    "game_over = False\n",
    "tries = 6\n",
    "from hangman_life import game_name\n",
    "print(game_name)"
   ]
  },
  {
   "cell_type": "code",
   "execution_count": 4,
   "outputs": [
    {
     "ename": "SyntaxError",
     "evalue": "cannot assign to literal (4092436817.py, line 2)",
     "output_type": "error",
     "traceback": [
      "\u001B[1;36m  Cell \u001B[1;32mIn[4], line 2\u001B[1;36m\u001B[0m\n\u001B[1;33m    for '_' in range(word_letter):\u001B[0m\n\u001B[1;37m        ^\u001B[0m\n\u001B[1;31mSyntaxError\u001B[0m\u001B[1;31m:\u001B[0m cannot assign to literal\n"
     ]
    }
   ],
   "source": [
    "result =[]\n",
    "for '_' in range(word_letter):\n",
    "    result+='_'\n",
    "\n",
    "while not game_over:\n",
    "    user_guess = input(\"Guess a letter: \")\n",
    "\n",
    "    if user_guess in result:\n",
    "        print(\"The letter you have guessed is \"+ user_guess)\n",
    "\n",
    "    for position in range (word_letter):\n",
    "        letter = guessing_word[position]\n",
    "        if letter == user_guess:\n",
    "            result[position] = letter\n",
    "    if user_guess not in guessing_word:\n",
    "        print(\"You have guessed \"+user_guess + \" This letter is not in the word you lose a try\")\n",
    "        tries -=1\n",
    "\n",
    "        if tries == 0:\n",
    "            game_over = True\n",
    "            print(\"Game Over\")\n",
    "\n",
    "    print(f'{' '.join(result}')"
   ],
   "metadata": {
    "collapsed": false,
    "pycharm": {
     "name": "#%%\n"
    }
   }
  },
  {
   "cell_type": "code",
   "execution_count": null,
   "outputs": [],
   "source": [],
   "metadata": {
    "collapsed": false,
    "pycharm": {
     "name": "#%%\n"
    }
   }
  }
 ],
 "metadata": {
  "kernelspec": {
   "display_name": "Python 3",
   "language": "python",
   "name": "python3"
  },
  "language_info": {
   "codemirror_mode": {
    "name": "ipython",
    "version": 3
   },
   "file_extension": ".py",
   "mimetype": "text/x-python",
   "name": "python",
   "nbconvert_exporter": "python",
   "pygments_lexer": "ipython3",
   "version": "3.8.8"
  }
 },
 "nbformat": 4,
 "nbformat_minor": 5
}