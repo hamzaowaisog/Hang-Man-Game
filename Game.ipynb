{
 "cells": [
  {
   "cell_type": "code",
   "execution_count": null,
   "id": "65b562df",
   "metadata": {
    "pycharm": {
     "name": "#%%\n"
    }
   },
   "outputs": [],
   "source": [
    "import random\n",
    "from hangman_guessing import guess_list\n",
    "guessing_word = random.choice(guess_list).lower()\n",
    "word_letter = len(guessing_word)\n",
    "game_over = False\n",
    "tries = 6\n",
    "from hangman_life import game_name\n",
    "print(game_name)\n",
    "\n",
    "result =[]\n",
    "for _ in range(word_letter):\n",
    "    result+='_'\n",
    "\n",
    "while not game_over:\n",
    "    user_guess = input(\"Guess a letter: \")\n",
    "\n",
    "    if user_guess in result:\n",
    "        print(\"The letter you have guessed is \"+ user_guess)\n",
    "\n",
    "    for position in range (word_letter):\n",
    "        letter = guessing_word[position]\n",
    "        if letter == user_guess:\n",
    "            result[position] = letter\n",
    "    if user_guess not in guessing_word:\n",
    "        print(\"You have guessed \"+user_guess + \" This letter is not in the word you lose a try\")\n",
    "        tries -=1\n",
    "\n",
    "        if tries == 0:\n",
    "            game_over = True\n",
    "            print(\"Game Over\")\n",
    "            print(\"The word is \"+guessing_word)\n",
    "            \n",
    "\n",
    "    print(f\"{' '.join(result)}\")\n",
    "             \n",
    "    if '_' not in result:\n",
    "        game_over = True\n",
    "        print(\"You are a winner , Congratulations\")\n",
    "        \n",
    "    from hangman_life import lives\n",
    "    print(lives[tries])"
   ]
  },
  {
   "cell_type": "code",
   "execution_count": null,
   "id": "4bef57db",
   "metadata": {
    "pycharm": {
     "name": "#%%\n"
    }
   },
   "outputs": [],
   "source": []
  }
 ],
 "metadata": {
  "kernelspec": {
   "display_name": "Python 3 (ipykernel)",
   "language": "python",
   "name": "python3"
  },
  "language_info": {
   "codemirror_mode": {
    "name": "ipython",
    "version": 3
   },
   "file_extension": ".py",
   "mimetype": "text/x-python",
   "name": "python",
   "nbconvert_exporter": "python",
   "pygments_lexer": "ipython3",
   "version": "3.11.3"
  }
 },
 "nbformat": 4,
 "nbformat_minor": 5
}
